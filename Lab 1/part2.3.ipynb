{
 "cells": [
  {
   "cell_type": "code",
   "execution_count": 2,
   "metadata": {},
   "outputs": [],
   "source": [
    "import json\n",
    "\n",
    "def process_json_file(input_file, output_file):\n",
    "    with open(input_file, 'r') as file:\n",
    "        data = json.load(file)\n",
    "\n",
    "    for record in data:\n",
    "        if 'payload' in record and 'size' in record['payload']:\n",
    "            record['payload']['size'] = 42\n",
    "\n",
    "    data.reverse()\n",
    "\n",
    "    with open(output_file, 'w') as file:\n",
    "        json.dump(data, file, indent=4)\n",
    "\n",
    "input_file_path = 'large-file.json'\n",
    "output_file_path = 'output.2.3.json'\n",
    "\n",
    "process_json_file(input_file_path, output_file_path)"
   ]
  }
 ],
 "metadata": {
  "kernelspec": {
   "display_name": "base",
   "language": "python",
   "name": "python3"
  },
  "language_info": {
   "codemirror_mode": {
    "name": "ipython",
    "version": 3
   },
   "file_extension": ".py",
   "mimetype": "text/x-python",
   "name": "python",
   "nbconvert_exporter": "python",
   "pygments_lexer": "ipython3",
   "version": "3.9.12"
  }
 },
 "nbformat": 4,
 "nbformat_minor": 2
}

{
 "cells": [
  {
   "cell_type": "code",
   "execution_count": 3,
   "metadata": {},
   "outputs": [
    {
     "name": "stdout",
     "output_type": "stream",
     "text": [
      "Average time taken to modify records: 0.012803459999999944 seconds.\n"
     ]
    }
   ],
   "source": [
    "import json\n",
    "import timeit\n",
    "\n",
    "def modify_records(data):\n",
    "    for record in data:\n",
    "        if 'payload' in record and 'size' in record['payload']:\n",
    "            record['payload']['size'] = 42\n",
    "\n",
    "def load_data(input_file):\n",
    "    with open(input_file, 'r') as file:\n",
    "        return json.load(file)\n",
    "\n",
    "def save_data(data, output_file):\n",
    "    data.reverse()\n",
    "    with open(output_file, 'w') as file:\n",
    "        json.dump(data, file, indent=4)\n",
    "\n",
    "def main(input_file, output_file):\n",
    "    data = load_data(input_file)\n",
    "\n",
    "    time_taken = timeit.timeit(lambda: modify_records(data), number = 10)\n",
    "\n",
    "    average_time = time_taken / 10\n",
    "    \n",
    "    print(f'Average time taken to modify records: {average_time} seconds.')\n",
    "\n",
    "    save_data(data, output_file)\n",
    "\n",
    "input_file_path = 'large-file.json'\n",
    "output_file_path = 'output.2.3.json'\n",
    "\n",
    "main(input_file_path, output_file_path)"
   ]
  }
 ],
 "metadata": {
  "kernelspec": {
   "display_name": "base",
   "language": "python",
   "name": "python3"
  },
  "language_info": {
   "codemirror_mode": {
    "name": "ipython",
    "version": 3
   },
   "file_extension": ".py",
   "mimetype": "text/x-python",
   "name": "python",
   "nbconvert_exporter": "python",
   "pygments_lexer": "ipython3",
   "version": "3.9.12"
  }
 },
 "nbformat": 4,
 "nbformat_minor": 2
}
